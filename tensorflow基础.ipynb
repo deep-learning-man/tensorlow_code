{
 "cells": [
  {
   "cell_type": "markdown",
   "id": "4ac96053-37dc-4b63-af49-f17e45881683",
   "metadata": {},
   "source": [
    "# Tensorflow 1+1"
   ]
  },
  {
   "cell_type": "code",
   "execution_count": 2,
   "id": "252f157b-69e9-46b5-8d76-80f5030e203c",
   "metadata": {},
   "outputs": [
    {
     "name": "stdout",
     "output_type": "stream",
     "text": [
      "2.7.0\n"
     ]
    }
   ],
   "source": [
    "import tensorflow as tf\n",
    "# 查看tf版本\n",
    "print(tf.__version__)"
   ]
  },
  {
   "cell_type": "code",
   "execution_count": 5,
   "id": "4a6ce8ac-5581-4b57-a040-4f4070cbf960",
   "metadata": {},
   "outputs": [
    {
     "data": {
      "text/plain": [
       "<tf.Tensor: shape=(), dtype=float32, numpy=0.056757927>"
      ]
     },
     "execution_count": 5,
     "metadata": {},
     "output_type": "execute_result"
    }
   ],
   "source": [
    "# 定义一个随机数\n",
    "fandom_float=tf.random.uniform(shape=()) # 思考一下，为什么一定要有shape=()这个参数\n",
    "fandom_float"
   ]
  },
  {
   "cell_type": "code",
   "execution_count": 4,
   "id": "c63d7c21-d8a2-4997-b355-253a9ba0a3ba",
   "metadata": {},
   "outputs": [
    {
     "data": {
      "text/plain": [
       "<tf.Tensor: shape=(2,), dtype=float32, numpy=array([0., 0.], dtype=float32)>"
      ]
     },
     "execution_count": 4,
     "metadata": {},
     "output_type": "execute_result"
    }
   ],
   "source": [
    "# 定义一个有2个元素的0向量\n",
    "zero_vector=tf.zeros(shape=(2))\n",
    "zero_vector"
   ]
  },
  {
   "cell_type": "code",
   "execution_count": 7,
   "id": "a86a3cc2-fa17-435e-bf3a-c065796cafe1",
   "metadata": {},
   "outputs": [
    {
     "name": "stdout",
     "output_type": "stream",
     "text": [
      "<dtype: 'int32'>\n",
      "(2, 2)\n"
     ]
    }
   ],
   "source": [
    "# 定义两个 2*2 的常量矩阵\n",
    "A=tf.constant([[1,2],[3,4]])\n",
    "B=tf.constant([[5,6],[7,8]])\n",
    "print(A.dtype)\n",
    "print(A.shape)\n",
    "print(A.shape)"
   ]
  },
  {
   "cell_type": "code",
   "execution_count": null,
   "id": "632d2fca-457d-4958-be7a-785409894f26",
   "metadata": {},
   "outputs": [],
   "source": []
  }
 ],
 "metadata": {
  "kernelspec": {
   "display_name": "tf-2",
   "language": "python",
   "name": "tf2"
  },
  "language_info": {
   "codemirror_mode": {
    "name": "ipython",
    "version": 3
   },
   "file_extension": ".py",
   "mimetype": "text/x-python",
   "name": "python",
   "nbconvert_exporter": "python",
   "pygments_lexer": "ipython3",
   "version": "3.7.0"
  }
 },
 "nbformat": 4,
 "nbformat_minor": 5
}
