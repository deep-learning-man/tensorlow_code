{
 "cells": [
  {
   "cell_type": "markdown",
   "id": "4ac96053-37dc-4b63-af49-f17e45881683",
   "metadata": {},
   "source": [
    "# Tensorflow 1+1"
   ]
  },
  {
   "cell_type": "code",
   "execution_count": 2,
   "id": "252f157b-69e9-46b5-8d76-80f5030e203c",
   "metadata": {},
   "outputs": [
    {
     "name": "stdout",
     "output_type": "stream",
     "text": [
      "2.7.0\n"
     ]
    }
   ],
   "source": [
    "import tensorflow as tf\n",
    "# 查看tf版本\n",
    "print(tf.__version__)"
   ]
  },
  {
   "cell_type": "code",
   "execution_count": 6,
   "id": "4a6ce8ac-5581-4b57-a040-4f4070cbf960",
   "metadata": {},
   "outputs": [],
   "source": [
    "# 定义一个随机数\n",
    "fandom_float=tf.random.uniform(shape=())"
   ]
  },
  {
   "cell_type": "code",
   "execution_count": null,
   "id": "c63d7c21-d8a2-4997-b355-253a9ba0a3ba",
   "metadata": {},
   "outputs": [],
   "source": []
  }
 ],
 "metadata": {
  "kernelspec": {
   "display_name": "tf-2",
   "language": "python",
   "name": "tf2"
  },
  "language_info": {
   "codemirror_mode": {
    "name": "ipython",
    "version": 3
   },
   "file_extension": ".py",
   "mimetype": "text/x-python",
   "name": "python",
   "nbconvert_exporter": "python",
   "pygments_lexer": "ipython3",
   "version": "3.7.0"
  }
 },
 "nbformat": 4,
 "nbformat_minor": 5
}
